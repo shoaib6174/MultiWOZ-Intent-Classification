{
  "cells": [
    {
      "cell_type": "code",
      "source": [
        "!pip install torch==1.8 torchtext==0.9.0\n",
        "!pip install pytorch_lightning\n",
        "!pip install transformers\n",
        "!pip install torchmetrics"
      ],
      "outputs": [
        {
          "output_type": "stream",
          "name": "stdout",
          "text": "Requirement already satisfied: torch==1.8 in /anaconda/envs/azureml_py36/lib/python3.6/site-packages (1.8.0)\nRequirement already satisfied: torchtext==0.9.0 in /anaconda/envs/azureml_py36/lib/python3.6/site-packages (0.9.0)\nRequirement already satisfied: dataclasses; python_version < \"3.7\" in /anaconda/envs/azureml_py36/lib/python3.6/site-packages (from torch==1.8) (0.8)\nRequirement already satisfied: typing-extensions in /anaconda/envs/azureml_py36/lib/python3.6/site-packages (from torch==1.8) (3.7.4.3)\nRequirement already satisfied: numpy in /anaconda/envs/azureml_py36/lib/python3.6/site-packages (from torch==1.8) (1.19.5)\nRequirement already satisfied: requests in /anaconda/envs/azureml_py36/lib/python3.6/site-packages (from torchtext==0.9.0) (2.26.0)\nRequirement already satisfied: tqdm in /anaconda/envs/azureml_py36/lib/python3.6/site-packages (from torchtext==0.9.0) (4.61.2)\nRequirement already satisfied: urllib3<1.27,>=1.21.1 in /anaconda/envs/azureml_py36/lib/python3.6/site-packages (from requests->torchtext==0.9.0) (1.26.7)\nRequirement already satisfied: charset-normalizer~=2.0.0; python_version >= \"3\" in /anaconda/envs/azureml_py36/lib/python3.6/site-packages (from requests->torchtext==0.9.0) (2.0.7)\nRequirement already satisfied: certifi>=2017.4.17 in /anaconda/envs/azureml_py36/lib/python3.6/site-packages (from requests->torchtext==0.9.0) (2021.10.8)\nRequirement already satisfied: idna<4,>=2.5; python_version >= \"3\" in /anaconda/envs/azureml_py36/lib/python3.6/site-packages (from requests->torchtext==0.9.0) (3.3)\nRequirement already satisfied: pytorch_lightning in /anaconda/envs/azureml_py36/lib/python3.6/site-packages (1.4.9)\nRequirement already satisfied: pyDeprecate==0.3.1 in /anaconda/envs/azureml_py36/lib/python3.6/site-packages (from pytorch_lightning) (0.3.1)\nRequirement already satisfied: tqdm>=4.41.0 in /anaconda/envs/azureml_py36/lib/python3.6/site-packages (from pytorch_lightning) (4.61.2)\nRequirement already satisfied: typing-extensions in /anaconda/envs/azureml_py36/lib/python3.6/site-packages (from pytorch_lightning) (3.7.4.3)\nRequirement already satisfied: torchmetrics>=0.4.0 in /anaconda/envs/azureml_py36/lib/python3.6/site-packages (from pytorch_lightning) (0.6.0)\nRequirement already satisfied: packaging>=17.0 in /anaconda/envs/azureml_py36/lib/python3.6/site-packages (from pytorch_lightning) (21.0)\nRequirement already satisfied: future>=0.17.1 in /anaconda/envs/azureml_py36/lib/python3.6/site-packages (from pytorch_lightning) (0.18.2)\nRequirement already satisfied: tensorboard>=2.2.0 in /anaconda/envs/azureml_py36/lib/python3.6/site-packages (from pytorch_lightning) (2.7.0)\nRequirement already satisfied: fsspec[http]!=2021.06.0,>=2021.05.0 in /anaconda/envs/azureml_py36/lib/python3.6/site-packages (from pytorch_lightning) (2021.7.0)\nRequirement already satisfied: numpy>=1.17.2 in /anaconda/envs/azureml_py36/lib/python3.6/site-packages (from pytorch_lightning) (1.19.5)\nRequirement already satisfied: PyYAML>=5.1 in /anaconda/envs/azureml_py36/lib/python3.6/site-packages (from pytorch_lightning) (5.4.1)\nRequirement already satisfied: torch>=1.6 in /anaconda/envs/azureml_py36/lib/python3.6/site-packages (from pytorch_lightning) (1.8.0)\nRequirement already satisfied: pyparsing>=2.0.2 in /anaconda/envs/azureml_py36/lib/python3.6/site-packages (from packaging>=17.0->pytorch_lightning) (2.4.7)\nRequirement already satisfied: setuptools>=41.0.0 in /anaconda/envs/azureml_py36/lib/python3.6/site-packages (from tensorboard>=2.2.0->pytorch_lightning) (58.3.0)\nRequirement already satisfied: absl-py>=0.4 in /anaconda/envs/azureml_py36/lib/python3.6/site-packages (from tensorboard>=2.2.0->pytorch_lightning) (0.15.0)\nRequirement already satisfied: tensorboard-data-server<0.7.0,>=0.6.0 in /anaconda/envs/azureml_py36/lib/python3.6/site-packages (from tensorboard>=2.2.0->pytorch_lightning) (0.6.1)\nRequirement already satisfied: tensorboard-plugin-wit>=1.6.0 in /anaconda/envs/azureml_py36/lib/python3.6/site-packages (from tensorboard>=2.2.0->pytorch_lightning) (1.8.0)\nRequirement already satisfied: grpcio>=1.24.3 in /anaconda/envs/azureml_py36/lib/python3.6/site-packages (from tensorboard>=2.2.0->pytorch_lightning) (1.34.1)\nRequirement already satisfied: werkzeug>=0.11.15 in /anaconda/envs/azureml_py36/lib/python3.6/site-packages (from tensorboard>=2.2.0->pytorch_lightning) (2.0.2)\nRequirement already satisfied: google-auth-oauthlib<0.5,>=0.4.1 in /anaconda/envs/azureml_py36/lib/python3.6/site-packages (from tensorboard>=2.2.0->pytorch_lightning) (0.4.6)\nRequirement already satisfied: requests<3,>=2.21.0 in /anaconda/envs/azureml_py36/lib/python3.6/site-packages (from tensorboard>=2.2.0->pytorch_lightning) (2.26.0)\nRequirement already satisfied: google-auth<3,>=1.6.3 in /anaconda/envs/azureml_py36/lib/python3.6/site-packages (from tensorboard>=2.2.0->pytorch_lightning) (2.3.2)\nRequirement already satisfied: markdown>=2.6.8 in /anaconda/envs/azureml_py36/lib/python3.6/site-packages (from tensorboard>=2.2.0->pytorch_lightning) (3.3.4)\nRequirement already satisfied: protobuf>=3.6.0 in /anaconda/envs/azureml_py36/lib/python3.6/site-packages (from tensorboard>=2.2.0->pytorch_lightning) (3.19.1)\nRequirement already satisfied: wheel>=0.26 in /anaconda/envs/azureml_py36/lib/python3.6/site-packages (from tensorboard>=2.2.0->pytorch_lightning) (0.37.0)\nRequirement already satisfied: aiohttp; extra == \"http\" in /anaconda/envs/azureml_py36/lib/python3.6/site-packages (from fsspec[http]!=2021.06.0,>=2021.05.0->pytorch_lightning) (3.7.4.post0)\nRequirement already satisfied: dataclasses; python_version < \"3.7\" in /anaconda/envs/azureml_py36/lib/python3.6/site-packages (from torch>=1.6->pytorch_lightning) (0.8)\nRequirement already satisfied: six in /anaconda/envs/azureml_py36/lib/python3.6/site-packages (from absl-py>=0.4->tensorboard>=2.2.0->pytorch_lightning) (1.15.0)\nRequirement already satisfied: requests-oauthlib>=0.7.0 in /anaconda/envs/azureml_py36/lib/python3.6/site-packages (from google-auth-oauthlib<0.5,>=0.4.1->tensorboard>=2.2.0->pytorch_lightning) (1.3.0)\nRequirement already satisfied: urllib3<1.27,>=1.21.1 in /anaconda/envs/azureml_py36/lib/python3.6/site-packages (from requests<3,>=2.21.0->tensorboard>=2.2.0->pytorch_lightning) (1.26.7)\nRequirement already satisfied: charset-normalizer~=2.0.0; python_version >= \"3\" in /anaconda/envs/azureml_py36/lib/python3.6/site-packages (from requests<3,>=2.21.0->tensorboard>=2.2.0->pytorch_lightning) (2.0.7)\nRequirement already satisfied: idna<4,>=2.5; python_version >= \"3\" in /anaconda/envs/azureml_py36/lib/python3.6/site-packages (from requests<3,>=2.21.0->tensorboard>=2.2.0->pytorch_lightning) (3.3)\nRequirement already satisfied: certifi>=2017.4.17 in /anaconda/envs/azureml_py36/lib/python3.6/site-packages (from requests<3,>=2.21.0->tensorboard>=2.2.0->pytorch_lightning) (2021.10.8)\nRequirement already satisfied: pyasn1-modules>=0.2.1 in /anaconda/envs/azureml_py36/lib/python3.6/site-packages (from google-auth<3,>=1.6.3->tensorboard>=2.2.0->pytorch_lightning) (0.2.8)\nRequirement already satisfied: cachetools<5.0,>=2.0.0 in /anaconda/envs/azureml_py36/lib/python3.6/site-packages (from google-auth<3,>=1.6.3->tensorboard>=2.2.0->pytorch_lightning) (4.2.4)\nRequirement already satisfied: rsa<5,>=3.1.4; python_version >= \"3.6\" in /anaconda/envs/azureml_py36/lib/python3.6/site-packages (from google-auth<3,>=1.6.3->tensorboard>=2.2.0->pytorch_lightning) (4.7.2)\nRequirement already satisfied: importlib-metadata; python_version < \"3.8\" in /anaconda/envs/azureml_py36/lib/python3.6/site-packages (from markdown>=2.6.8->tensorboard>=2.2.0->pytorch_lightning) (4.8.1)\nRequirement already satisfied: attrs>=17.3.0 in /anaconda/envs/azureml_py36/lib/python3.6/site-packages (from aiohttp; extra == \"http\"->fsspec[http]!=2021.06.0,>=2021.05.0->pytorch_lightning) (21.2.0)\nRequirement already satisfied: chardet<5.0,>=2.0 in /anaconda/envs/azureml_py36/lib/python3.6/site-packages (from aiohttp; extra == \"http\"->fsspec[http]!=2021.06.0,>=2021.05.0->pytorch_lightning) (4.0.0)\nRequirement already satisfied: yarl<2.0,>=1.0 in /anaconda/envs/azureml_py36/lib/python3.6/site-packages (from aiohttp; extra == \"http\"->fsspec[http]!=2021.06.0,>=2021.05.0->pytorch_lightning) (1.6.3)\nRequirement already satisfied: async-timeout<4.0,>=3.0 in /anaconda/envs/azureml_py36/lib/python3.6/site-packages (from aiohttp; extra == \"http\"->fsspec[http]!=2021.06.0,>=2021.05.0->pytorch_lightning) (3.0.1)\nRequirement already satisfied: multidict<7.0,>=4.5 in /anaconda/envs/azureml_py36/lib/python3.6/site-packages (from aiohttp; extra == \"http\"->fsspec[http]!=2021.06.0,>=2021.05.0->pytorch_lightning) (5.1.0)\nRequirement already satisfied: idna-ssl>=1.0; python_version < \"3.7\" in /anaconda/envs/azureml_py36/lib/python3.6/site-packages (from aiohttp; extra == \"http\"->fsspec[http]!=2021.06.0,>=2021.05.0->pytorch_lightning) (1.1.0)\nRequirement already satisfied: oauthlib>=3.0.0 in /anaconda/envs/azureml_py36/lib/python3.6/site-packages (from requests-oauthlib>=0.7.0->google-auth-oauthlib<0.5,>=0.4.1->tensorboard>=2.2.0->pytorch_lightning) (3.1.1)\nRequirement already satisfied: pyasn1<0.5.0,>=0.4.6 in /anaconda/envs/azureml_py36/lib/python3.6/site-packages (from pyasn1-modules>=0.2.1->google-auth<3,>=1.6.3->tensorboard>=2.2.0->pytorch_lightning) (0.4.8)\nRequirement already satisfied: zipp>=0.5 in /anaconda/envs/azureml_py36/lib/python3.6/site-packages (from importlib-metadata; python_version < \"3.8\"->markdown>=2.6.8->tensorboard>=2.2.0->pytorch_lightning) (3.6.0)\nRequirement already satisfied: transformers in /anaconda/envs/azureml_py36/lib/python3.6/site-packages (4.12.0)\nRequirement already satisfied: numpy>=1.17 in /anaconda/envs/azureml_py36/lib/python3.6/site-packages (from transformers) (1.19.5)\nRequirement already satisfied: huggingface-hub>=0.0.17 in /anaconda/envs/azureml_py36/lib/python3.6/site-packages (from transformers) (0.0.19)\nRequirement already satisfied: tokenizers<0.11,>=0.10.1 in /anaconda/envs/azureml_py36/lib/python3.6/site-packages (from transformers) (0.10.3)\nRequirement already satisfied: sacremoses in /anaconda/envs/azureml_py36/lib/python3.6/site-packages (from transformers) (0.0.45)\nRequirement already satisfied: dataclasses; python_version < \"3.7\" in /anaconda/envs/azureml_py36/lib/python3.6/site-packages (from transformers) (0.8)\nRequirement already satisfied: filelock in /anaconda/envs/azureml_py36/lib/python3.6/site-packages (from transformers) (3.0.12)\nRequirement already satisfied: packaging>=20.0 in /anaconda/envs/azureml_py36/lib/python3.6/site-packages (from transformers) (21.0)\nRequirement already satisfied: regex!=2019.12.17 in /anaconda/envs/azureml_py36/lib/python3.6/site-packages (from transformers) (2021.7.6)\nRequirement already satisfied: importlib-metadata; python_version < \"3.8\" in /anaconda/envs/azureml_py36/lib/python3.6/site-packages (from transformers) (4.8.1)\nRequirement already satisfied: tqdm>=4.27 in /anaconda/envs/azureml_py36/lib/python3.6/site-packages (from transformers) (4.61.2)\nRequirement already satisfied: pyyaml>=5.1 in /anaconda/envs/azureml_py36/lib/python3.6/site-packages (from transformers) (5.4.1)\nRequirement already satisfied: requests in /anaconda/envs/azureml_py36/lib/python3.6/site-packages (from transformers) (2.26.0)\nRequirement already satisfied: typing-extensions in /anaconda/envs/azureml_py36/lib/python3.6/site-packages (from huggingface-hub>=0.0.17->transformers) (3.7.4.3)\nRequirement already satisfied: joblib in /anaconda/envs/azureml_py36/lib/python3.6/site-packages (from sacremoses->transformers) (0.14.1)\nRequirement already satisfied: six in /anaconda/envs/azureml_py36/lib/python3.6/site-packages (from sacremoses->transformers) (1.15.0)\nRequirement already satisfied: click in /anaconda/envs/azureml_py36/lib/python3.6/site-packages (from sacremoses->transformers) (8.0.1)\nRequirement already satisfied: pyparsing>=2.0.2 in /anaconda/envs/azureml_py36/lib/python3.6/site-packages (from packaging>=20.0->transformers) (2.4.7)\nRequirement already satisfied: zipp>=0.5 in /anaconda/envs/azureml_py36/lib/python3.6/site-packages (from importlib-metadata; python_version < \"3.8\"->transformers) (3.6.0)\nRequirement already satisfied: charset-normalizer~=2.0.0; python_version >= \"3\" in /anaconda/envs/azureml_py36/lib/python3.6/site-packages (from requests->transformers) (2.0.7)\nRequirement already satisfied: urllib3<1.27,>=1.21.1 in /anaconda/envs/azureml_py36/lib/python3.6/site-packages (from requests->transformers) (1.26.7)\nRequirement already satisfied: idna<4,>=2.5; python_version >= \"3\" in /anaconda/envs/azureml_py36/lib/python3.6/site-packages (from requests->transformers) (3.3)\nRequirement already satisfied: certifi>=2017.4.17 in /anaconda/envs/azureml_py36/lib/python3.6/site-packages (from requests->transformers) (2021.10.8)\nRequirement already satisfied: torchmetrics in /anaconda/envs/azureml_py36/lib/python3.6/site-packages (0.6.0)\nRequirement already satisfied: packaging in /anaconda/envs/azureml_py36/lib/python3.6/site-packages (from torchmetrics) (21.0)\nRequirement already satisfied: numpy>=1.17.2 in /anaconda/envs/azureml_py36/lib/python3.6/site-packages (from torchmetrics) (1.19.5)\nRequirement already satisfied: torch>=1.3.1 in /anaconda/envs/azureml_py36/lib/python3.6/site-packages (from torchmetrics) (1.8.0)\nRequirement already satisfied: pyparsing>=2.0.2 in /anaconda/envs/azureml_py36/lib/python3.6/site-packages (from packaging->torchmetrics) (2.4.7)\nRequirement already satisfied: dataclasses; python_version < \"3.7\" in /anaconda/envs/azureml_py36/lib/python3.6/site-packages (from torch>=1.3.1->torchmetrics) (0.8)\nRequirement already satisfied: typing-extensions in /anaconda/envs/azureml_py36/lib/python3.6/site-packages (from torch>=1.3.1->torchmetrics) (3.7.4.3)\n"
        }
      ],
      "execution_count": 1,
      "metadata": {
        "colab": {
          "base_uri": "https://localhost:8080/"
        },
        "id": "pu6-5jKE21zB",
        "outputId": "bc4e0131-785f-4a41-9b28-d6588acb03f3"
      }
    },
    {
      "cell_type": "code",
      "source": [
        "\n",
        "import pandas as pd\n",
        "import numpy as np\n",
        "from tqdm.auto import tqdm\n",
        "import torch\n",
        "import torch.nn as nn\n",
        "from torch.utils.data import Dataset, DataLoader\n",
        "from transformers import BertTokenizerFast as BertTokenizer, BertModel, AdamW, get_linear_schedule_with_warmup\n",
        "import pytorch_lightning as pl\n",
        "from sklearn.model_selection import train_test_split\n",
        "from sklearn.metrics import classification_report, multilabel_confusion_matrix\n",
        "from torchmetrics.functional import auroc, accuracy, f1\n",
        "from pytorch_lightning.callbacks import ModelCheckpoint, EarlyStopping\n",
        "from pytorch_lightning.loggers import TensorBoardLogger\n",
        "\n",
        "RANDOM_SEED = 42\n",
        "pl.seed_everything(RANDOM_SEED)"
      ],
      "outputs": [
        {
          "output_type": "stream",
          "name": "stderr",
          "text": "Global seed set to 42\n"
        },
        {
          "output_type": "execute_result",
          "execution_count": 2,
          "data": {
            "text/plain": "42"
          },
          "metadata": {}
        }
      ],
      "execution_count": 2,
      "metadata": {
        "colab": {
          "base_uri": "https://localhost:8080/"
        },
        "id": "IKnfzq6V27mh",
        "outputId": "54d697b6-620d-425a-c3f3-90557b2db8ed",
        "gather": {
          "logged": 1635617376692
        }
      }
    },
    {
      "cell_type": "code",
      "source": [
        "df = pd.read_csv('train_intents.csv' )\n",
        "df = df.drop(columns=['Unnamed: 0','find_bus'], errors='ignore')\n",
        "LABEL_COLUMNS = [ 'book_hotel', 'book_restaurant', 'book_train', 'find_attraction', 'find_hospital', 'find_hotel', 'find_police', 'find_restaurant', 'find_taxi', 'find_train', 'no_intent']\n",
        "df"
      ],
      "outputs": [
        {
          "output_type": "execute_result",
          "execution_count": 3,
          "data": {
            "text/plain": "       Unnamed: 0.1                                               text  \\\n0                 0  i need a place to dine in the center thats exp...   \n1                 1  Any sort of food would be fine, as long as it ...   \n2                 2  Sounds good, could I get that phone number? Al...   \n3                 3                       Yes. Can you book it for me?   \n4                 4  i want to book it for 2 people and 2 nights st...   \n...             ...                                                ...   \n50833         51239                        what is there phone number?   \n50834         51240                            no, thank you. Goodbye.   \n50835         51241  Hello, I am looking for a cheap restaurant tha...   \n50836         51242                    Yes, how about portuguese food?   \n50837         51243  I would like the address of Nandos restaurant,...   \n\n                                 intents  book_hotel  book_restaurant  \\\n0      ['find_restaurant', 'find_hotel']           0                0   \n1      ['find_restaurant', 'find_hotel']           0                0   \n2      ['find_restaurant', 'find_hotel']           0                0   \n3                         ['find_hotel']           0                0   \n4                         ['book_hotel']           1                0   \n...                                  ...         ...              ...   \n50833                ['find_restaurant']           0                0   \n50834                      ['no_intent']           0                0   \n50835                ['find_restaurant']           0                0   \n50836                ['find_restaurant']           0                0   \n50837                ['find_restaurant']           0                0   \n\n       book_train  find_attraction  find_hospital  find_hotel  find_police  \\\n0               0                0              0           1            0   \n1               0                0              0           1            0   \n2               0                0              0           1            0   \n3               0                0              0           1            0   \n4               0                0              0           0            0   \n...           ...              ...            ...         ...          ...   \n50833           0                0              0           0            0   \n50834           0                0              0           0            0   \n50835           0                0              0           0            0   \n50836           0                0              0           0            0   \n50837           0                0              0           0            0   \n\n       find_restaurant  find_taxi  find_train  no_intent  \n0                    1          0           0          0  \n1                    1          0           0          0  \n2                    1          0           0          0  \n3                    0          0           0          0  \n4                    0          0           0          0  \n...                ...        ...         ...        ...  \n50833                1          0           0          0  \n50834                0          0           0          1  \n50835                1          0           0          0  \n50836                1          0           0          0  \n50837                1          0           0          0  \n\n[50838 rows x 14 columns]",
            "text/html": "<div>\n<style scoped>\n    .dataframe tbody tr th:only-of-type {\n        vertical-align: middle;\n    }\n\n    .dataframe tbody tr th {\n        vertical-align: top;\n    }\n\n    .dataframe thead th {\n        text-align: right;\n    }\n</style>\n<table border=\"1\" class=\"dataframe\">\n  <thead>\n    <tr style=\"text-align: right;\">\n      <th></th>\n      <th>Unnamed: 0.1</th>\n      <th>text</th>\n      <th>intents</th>\n      <th>book_hotel</th>\n      <th>book_restaurant</th>\n      <th>book_train</th>\n      <th>find_attraction</th>\n      <th>find_hospital</th>\n      <th>find_hotel</th>\n      <th>find_police</th>\n      <th>find_restaurant</th>\n      <th>find_taxi</th>\n      <th>find_train</th>\n      <th>no_intent</th>\n    </tr>\n  </thead>\n  <tbody>\n    <tr>\n      <th>0</th>\n      <td>0</td>\n      <td>i need a place to dine in the center thats exp...</td>\n      <td>['find_restaurant', 'find_hotel']</td>\n      <td>0</td>\n      <td>0</td>\n      <td>0</td>\n      <td>0</td>\n      <td>0</td>\n      <td>1</td>\n      <td>0</td>\n      <td>1</td>\n      <td>0</td>\n      <td>0</td>\n      <td>0</td>\n    </tr>\n    <tr>\n      <th>1</th>\n      <td>1</td>\n      <td>Any sort of food would be fine, as long as it ...</td>\n      <td>['find_restaurant', 'find_hotel']</td>\n      <td>0</td>\n      <td>0</td>\n      <td>0</td>\n      <td>0</td>\n      <td>0</td>\n      <td>1</td>\n      <td>0</td>\n      <td>1</td>\n      <td>0</td>\n      <td>0</td>\n      <td>0</td>\n    </tr>\n    <tr>\n      <th>2</th>\n      <td>2</td>\n      <td>Sounds good, could I get that phone number? Al...</td>\n      <td>['find_restaurant', 'find_hotel']</td>\n      <td>0</td>\n      <td>0</td>\n      <td>0</td>\n      <td>0</td>\n      <td>0</td>\n      <td>1</td>\n      <td>0</td>\n      <td>1</td>\n      <td>0</td>\n      <td>0</td>\n      <td>0</td>\n    </tr>\n    <tr>\n      <th>3</th>\n      <td>3</td>\n      <td>Yes. Can you book it for me?</td>\n      <td>['find_hotel']</td>\n      <td>0</td>\n      <td>0</td>\n      <td>0</td>\n      <td>0</td>\n      <td>0</td>\n      <td>1</td>\n      <td>0</td>\n      <td>0</td>\n      <td>0</td>\n      <td>0</td>\n      <td>0</td>\n    </tr>\n    <tr>\n      <th>4</th>\n      <td>4</td>\n      <td>i want to book it for 2 people and 2 nights st...</td>\n      <td>['book_hotel']</td>\n      <td>1</td>\n      <td>0</td>\n      <td>0</td>\n      <td>0</td>\n      <td>0</td>\n      <td>0</td>\n      <td>0</td>\n      <td>0</td>\n      <td>0</td>\n      <td>0</td>\n      <td>0</td>\n    </tr>\n    <tr>\n      <th>...</th>\n      <td>...</td>\n      <td>...</td>\n      <td>...</td>\n      <td>...</td>\n      <td>...</td>\n      <td>...</td>\n      <td>...</td>\n      <td>...</td>\n      <td>...</td>\n      <td>...</td>\n      <td>...</td>\n      <td>...</td>\n      <td>...</td>\n      <td>...</td>\n    </tr>\n    <tr>\n      <th>50833</th>\n      <td>51239</td>\n      <td>what is there phone number?</td>\n      <td>['find_restaurant']</td>\n      <td>0</td>\n      <td>0</td>\n      <td>0</td>\n      <td>0</td>\n      <td>0</td>\n      <td>0</td>\n      <td>0</td>\n      <td>1</td>\n      <td>0</td>\n      <td>0</td>\n      <td>0</td>\n    </tr>\n    <tr>\n      <th>50834</th>\n      <td>51240</td>\n      <td>no, thank you. Goodbye.</td>\n      <td>['no_intent']</td>\n      <td>0</td>\n      <td>0</td>\n      <td>0</td>\n      <td>0</td>\n      <td>0</td>\n      <td>0</td>\n      <td>0</td>\n      <td>0</td>\n      <td>0</td>\n      <td>0</td>\n      <td>1</td>\n    </tr>\n    <tr>\n      <th>50835</th>\n      <td>51241</td>\n      <td>Hello, I am looking for a cheap restaurant tha...</td>\n      <td>['find_restaurant']</td>\n      <td>0</td>\n      <td>0</td>\n      <td>0</td>\n      <td>0</td>\n      <td>0</td>\n      <td>0</td>\n      <td>0</td>\n      <td>1</td>\n      <td>0</td>\n      <td>0</td>\n      <td>0</td>\n    </tr>\n    <tr>\n      <th>50836</th>\n      <td>51242</td>\n      <td>Yes, how about portuguese food?</td>\n      <td>['find_restaurant']</td>\n      <td>0</td>\n      <td>0</td>\n      <td>0</td>\n      <td>0</td>\n      <td>0</td>\n      <td>0</td>\n      <td>0</td>\n      <td>1</td>\n      <td>0</td>\n      <td>0</td>\n      <td>0</td>\n    </tr>\n    <tr>\n      <th>50837</th>\n      <td>51243</td>\n      <td>I would like the address of Nandos restaurant,...</td>\n      <td>['find_restaurant']</td>\n      <td>0</td>\n      <td>0</td>\n      <td>0</td>\n      <td>0</td>\n      <td>0</td>\n      <td>0</td>\n      <td>0</td>\n      <td>1</td>\n      <td>0</td>\n      <td>0</td>\n      <td>0</td>\n    </tr>\n  </tbody>\n</table>\n<p>50838 rows × 14 columns</p>\n</div>"
          },
          "metadata": {}
        }
      ],
      "execution_count": 3,
      "metadata": {
        "id": "Ia3ZFiWV3WXL",
        "colab": {
          "base_uri": "https://localhost:8080/",
          "height": 878
        },
        "outputId": "a3c4b88f-48c2-4b49-8b85-31d1297ceaeb",
        "gather": {
          "logged": 1635617377003
        }
      }
    },
    {
      "cell_type": "code",
      "source": [
        "val_df = pd.read_csv('test_intents.csv' )\n",
        "val_df = val_df.drop(columns=['Unnamed: 0','find_bus'], errors='ignore')\n",
        "\n",
        "val_df"
      ],
      "outputs": [
        {
          "output_type": "execute_result",
          "execution_count": 4,
          "data": {
            "text/plain": "      Unnamed: 0.1                                               text  \\\n0                0  i need a place to dine in the center thats exp...   \n1                1  Any sort of food would be fine, as long as it ...   \n2                2  Sounds good, could I get that phone number? Al...   \n3                3                       Yes. Can you book it for me?   \n4                4  i want to book it for 2 people and 2 nights st...   \n...            ...                                                ...   \n6797          6838   I would like to visit a cinema of the west side.   \n6798          6839                           How about a museum then?   \n6799          6840  I would prefer a museum. One with free entry i...   \n6800          6841  That is fine. Book me a ticket and get me a re...   \n6801          6842                             That's all, thank you.   \n\n                                intents  book_hotel  book_restaurant  \\\n0     ['find_restaurant', 'find_hotel']           0                0   \n1     ['find_restaurant', 'find_hotel']           0                0   \n2     ['find_restaurant', 'find_hotel']           0                0   \n3                        ['find_hotel']           0                0   \n4                        ['book_hotel']           1                0   \n...                                 ...         ...              ...   \n6797                ['find_attraction']           0                0   \n6798                ['find_attraction']           0                0   \n6799                ['find_attraction']           0                0   \n6800                ['find_attraction']           0                0   \n6801                      ['no_intent']           0                0   \n\n      book_train  find_attraction  find_hospital  find_hotel  find_police  \\\n0              0                0              0           1            0   \n1              0                0              0           1            0   \n2              0                0              0           1            0   \n3              0                0              0           1            0   \n4              0                0              0           0            0   \n...          ...              ...            ...         ...          ...   \n6797           0                1              0           0            0   \n6798           0                1              0           0            0   \n6799           0                1              0           0            0   \n6800           0                1              0           0            0   \n6801           0                0              0           0            0   \n\n      find_restaurant  find_taxi  find_train  no_intent  \n0                   1          0           0          0  \n1                   1          0           0          0  \n2                   1          0           0          0  \n3                   0          0           0          0  \n4                   0          0           0          0  \n...               ...        ...         ...        ...  \n6797                0          0           0          0  \n6798                0          0           0          0  \n6799                0          0           0          0  \n6800                0          0           0          0  \n6801                0          0           0          1  \n\n[6802 rows x 14 columns]",
            "text/html": "<div>\n<style scoped>\n    .dataframe tbody tr th:only-of-type {\n        vertical-align: middle;\n    }\n\n    .dataframe tbody tr th {\n        vertical-align: top;\n    }\n\n    .dataframe thead th {\n        text-align: right;\n    }\n</style>\n<table border=\"1\" class=\"dataframe\">\n  <thead>\n    <tr style=\"text-align: right;\">\n      <th></th>\n      <th>Unnamed: 0.1</th>\n      <th>text</th>\n      <th>intents</th>\n      <th>book_hotel</th>\n      <th>book_restaurant</th>\n      <th>book_train</th>\n      <th>find_attraction</th>\n      <th>find_hospital</th>\n      <th>find_hotel</th>\n      <th>find_police</th>\n      <th>find_restaurant</th>\n      <th>find_taxi</th>\n      <th>find_train</th>\n      <th>no_intent</th>\n    </tr>\n  </thead>\n  <tbody>\n    <tr>\n      <th>0</th>\n      <td>0</td>\n      <td>i need a place to dine in the center thats exp...</td>\n      <td>['find_restaurant', 'find_hotel']</td>\n      <td>0</td>\n      <td>0</td>\n      <td>0</td>\n      <td>0</td>\n      <td>0</td>\n      <td>1</td>\n      <td>0</td>\n      <td>1</td>\n      <td>0</td>\n      <td>0</td>\n      <td>0</td>\n    </tr>\n    <tr>\n      <th>1</th>\n      <td>1</td>\n      <td>Any sort of food would be fine, as long as it ...</td>\n      <td>['find_restaurant', 'find_hotel']</td>\n      <td>0</td>\n      <td>0</td>\n      <td>0</td>\n      <td>0</td>\n      <td>0</td>\n      <td>1</td>\n      <td>0</td>\n      <td>1</td>\n      <td>0</td>\n      <td>0</td>\n      <td>0</td>\n    </tr>\n    <tr>\n      <th>2</th>\n      <td>2</td>\n      <td>Sounds good, could I get that phone number? Al...</td>\n      <td>['find_restaurant', 'find_hotel']</td>\n      <td>0</td>\n      <td>0</td>\n      <td>0</td>\n      <td>0</td>\n      <td>0</td>\n      <td>1</td>\n      <td>0</td>\n      <td>1</td>\n      <td>0</td>\n      <td>0</td>\n      <td>0</td>\n    </tr>\n    <tr>\n      <th>3</th>\n      <td>3</td>\n      <td>Yes. Can you book it for me?</td>\n      <td>['find_hotel']</td>\n      <td>0</td>\n      <td>0</td>\n      <td>0</td>\n      <td>0</td>\n      <td>0</td>\n      <td>1</td>\n      <td>0</td>\n      <td>0</td>\n      <td>0</td>\n      <td>0</td>\n      <td>0</td>\n    </tr>\n    <tr>\n      <th>4</th>\n      <td>4</td>\n      <td>i want to book it for 2 people and 2 nights st...</td>\n      <td>['book_hotel']</td>\n      <td>1</td>\n      <td>0</td>\n      <td>0</td>\n      <td>0</td>\n      <td>0</td>\n      <td>0</td>\n      <td>0</td>\n      <td>0</td>\n      <td>0</td>\n      <td>0</td>\n      <td>0</td>\n    </tr>\n    <tr>\n      <th>...</th>\n      <td>...</td>\n      <td>...</td>\n      <td>...</td>\n      <td>...</td>\n      <td>...</td>\n      <td>...</td>\n      <td>...</td>\n      <td>...</td>\n      <td>...</td>\n      <td>...</td>\n      <td>...</td>\n      <td>...</td>\n      <td>...</td>\n      <td>...</td>\n    </tr>\n    <tr>\n      <th>6797</th>\n      <td>6838</td>\n      <td>I would like to visit a cinema of the west side.</td>\n      <td>['find_attraction']</td>\n      <td>0</td>\n      <td>0</td>\n      <td>0</td>\n      <td>1</td>\n      <td>0</td>\n      <td>0</td>\n      <td>0</td>\n      <td>0</td>\n      <td>0</td>\n      <td>0</td>\n      <td>0</td>\n    </tr>\n    <tr>\n      <th>6798</th>\n      <td>6839</td>\n      <td>How about a museum then?</td>\n      <td>['find_attraction']</td>\n      <td>0</td>\n      <td>0</td>\n      <td>0</td>\n      <td>1</td>\n      <td>0</td>\n      <td>0</td>\n      <td>0</td>\n      <td>0</td>\n      <td>0</td>\n      <td>0</td>\n      <td>0</td>\n    </tr>\n    <tr>\n      <th>6799</th>\n      <td>6840</td>\n      <td>I would prefer a museum. One with free entry i...</td>\n      <td>['find_attraction']</td>\n      <td>0</td>\n      <td>0</td>\n      <td>0</td>\n      <td>1</td>\n      <td>0</td>\n      <td>0</td>\n      <td>0</td>\n      <td>0</td>\n      <td>0</td>\n      <td>0</td>\n      <td>0</td>\n    </tr>\n    <tr>\n      <th>6800</th>\n      <td>6841</td>\n      <td>That is fine. Book me a ticket and get me a re...</td>\n      <td>['find_attraction']</td>\n      <td>0</td>\n      <td>0</td>\n      <td>0</td>\n      <td>1</td>\n      <td>0</td>\n      <td>0</td>\n      <td>0</td>\n      <td>0</td>\n      <td>0</td>\n      <td>0</td>\n      <td>0</td>\n    </tr>\n    <tr>\n      <th>6801</th>\n      <td>6842</td>\n      <td>That's all, thank you.</td>\n      <td>['no_intent']</td>\n      <td>0</td>\n      <td>0</td>\n      <td>0</td>\n      <td>0</td>\n      <td>0</td>\n      <td>0</td>\n      <td>0</td>\n      <td>0</td>\n      <td>0</td>\n      <td>0</td>\n      <td>1</td>\n    </tr>\n  </tbody>\n</table>\n<p>6802 rows × 14 columns</p>\n</div>"
          },
          "metadata": {}
        }
      ],
      "execution_count": 4,
      "metadata": {
        "colab": {
          "base_uri": "https://localhost:8080/",
          "height": 844
        },
        "id": "e-ApuvryzPbY",
        "outputId": "7707320f-6461-4738-f49e-b4b2ebab8d94",
        "gather": {
          "logged": 1635617377474
        }
      }
    },
    {
      "cell_type": "code",
      "source": [
        "df[LABEL_COLUMNS].sum().sort_values().plot(kind=\"barh\");"
      ],
      "outputs": [
        {
          "output_type": "display_data",
          "data": {
            "text/plain": "<Figure size 432x288 with 1 Axes>",
            "image/png": "[encoded data removed]"
          },
          "metadata": {
            "needs_background": "light"
          }
        }
      ],
      "execution_count": 5,
      "metadata": {
        "jupyter": {
          "source_hidden": false,
          "outputs_hidden": false
        },
        "nteract": {
          "transient": {
            "deleting": false
          }
        },
        "gather": {
          "logged": 1635617400388
        }
      }
    },
    {
      "cell_type": "code",
      "source": [
        "df1 = df.copy()\n",
        "\n",
        "intentdf = []\n",
        "for intent in LABEL_COLUMNS:\n",
        "  intent_sample_df = df1[  (df1[LABEL_COLUMNS].sum(axis=1) == 1) & (df1[intent] == 1)]\n",
        "  intent_sample_df = intent_sample_df.sample(2000, replace=True)\n",
        "  intentdf.append( intent_sample_df)\n",
        "\n",
        "multiple_intent_df = df1[df1[LABEL_COLUMNS].sum(axis=1) > 1]  \n",
        "train_df = pd.concat([multiple_intent_df, *intentdf])\n",
        "\n",
        "\n",
        "train_df[LABEL_COLUMNS].sum().sort_values().plot(kind=\"barh\");"
      ],
      "outputs": [
        {
          "output_type": "display_data",
          "data": {
            "text/plain": "<Figure size 432x288 with 1 Axes>",
            "image/png": "[encoded data removed]"
          },
          "metadata": {
            "needs_background": "light"
          }
        }
      ],
      "execution_count": 6,
      "metadata": {
        "id": "T-yEoB163jsh",
        "colab": {
          "base_uri": "https://localhost:8080/",
          "height": 929
        },
        "outputId": "54555c52-16de-4349-efe8-32c9269bfa8d",
        "gather": {
          "logged": 1635617417638
        }
      }
    },
    {
      "cell_type": "code",
      "source": [
        "train_df.shape, val_df.shape"
      ],
      "outputs": [
        {
          "output_type": "execute_result",
          "execution_count": 7,
          "data": {
            "text/plain": "((28690, 14), (6802, 14))"
          },
          "metadata": {}
        }
      ],
      "execution_count": 7,
      "metadata": {
        "id": "AFYAAWZz27gp",
        "colab": {
          "base_uri": "https://localhost:8080/"
        },
        "outputId": "dcc52cfd-a6c8-4147-8c09-82b8fd4b1ff8",
        "gather": {
          "logged": 1635617424517
        }
      }
    },
    {
      "cell_type": "code",
      "source": [
        "#train_df = train_df.sample(5000)"
      ],
      "outputs": [],
      "execution_count": null,
      "metadata": {
        "id": "2wCn-exTvOyp"
      }
    },
    {
      "cell_type": "code",
      "source": [
        "BERT_MODEL_NAME = 'bert-base-cased'\n",
        "tokenizer = BertTokenizer.from_pretrained(BERT_MODEL_NAME)"
      ],
      "outputs": [],
      "execution_count": 8,
      "metadata": {
        "id": "UcWPI1RQxkII",
        "gather": {
          "logged": 1635617432535
        }
      }
    },
    {
      "cell_type": "code",
      "source": [
        "class MultiWOZIntentDataset(Dataset):\n",
        "  def __init__(\n",
        "    self,\n",
        "    data: pd.DataFrame,\n",
        "    tokenizer: BertTokenizer,\n",
        "    max_token_len: int = 128\n",
        "  ):\n",
        "    self.tokenizer = tokenizer\n",
        "    self.data = data\n",
        "    self.max_token_len = max_token_len\n",
        "  def __len__(self):\n",
        "    return len(self.data)\n",
        "  def __getitem__(self, index: int):\n",
        "    data_row = self.data.iloc[index]\n",
        "    text = data_row.text\n",
        "    labels = data_row[LABEL_COLUMNS]\n",
        "    encoding = self.tokenizer.encode_plus(\n",
        "      text,\n",
        "      add_special_tokens=True,\n",
        "      max_length=self.max_token_len,\n",
        "      return_token_type_ids=False,\n",
        "      padding=\"max_length\",\n",
        "      truncation=True,\n",
        "      return_attention_mask=True,\n",
        "      return_tensors='pt',\n",
        "    )\n",
        "    return dict(\n",
        "      text=text,\n",
        "      input_ids=encoding[\"input_ids\"].flatten(),\n",
        "      attention_mask=encoding[\"attention_mask\"].flatten(),\n",
        "      labels=torch.FloatTensor(labels)\n",
        "    )"
      ],
      "outputs": [],
      "execution_count": 9,
      "metadata": {
        "id": "pXltyLmHy3Fo",
        "gather": {
          "logged": 1635617435498
        }
      }
    },
    {
      "cell_type": "code",
      "source": [
        "train_dataset = MultiWOZIntentDataset(train_df, tokenizer)"
      ],
      "outputs": [],
      "execution_count": 10,
      "metadata": {
        "id": "mOizZQHbh7jK",
        "gather": {
          "logged": 1635617437477
        }
      }
    },
    {
      "cell_type": "code",
      "source": [
        "class MultiWOZIntentDataModule(pl.LightningDataModule):\n",
        "  def __init__(self, train_df, test_df, tokenizer, batch_size=8, max_token_len=128):\n",
        "    super().__init__()\n",
        "    self.batch_size = batch_size\n",
        "    self.train_df = train_df\n",
        "    self.test_df = test_df\n",
        "    self.tokenizer = tokenizer\n",
        "    self.max_token_len = max_token_len\n",
        "  def setup(self, stage=None):\n",
        "    self.train_dataset = MultiWOZIntentDataset(\n",
        "      self.train_df,\n",
        "      self.tokenizer,\n",
        "      self.max_token_len\n",
        "    )\n",
        "    self.test_dataset = MultiWOZIntentDataset(\n",
        "      self.test_df,\n",
        "      self.tokenizer,\n",
        "      self.max_token_len\n",
        "    )\n",
        "  def train_dataloader(self):\n",
        "    return DataLoader(\n",
        "      self.train_dataset,\n",
        "      batch_size=self.batch_size,\n",
        "      shuffle=True,\n",
        "      num_workers=2\n",
        "    )\n",
        "  def val_dataloader(self):\n",
        "    return DataLoader(\n",
        "      self.test_dataset,\n",
        "      batch_size=self.batch_size,\n",
        "      num_workers=2\n",
        "    )\n",
        "  def test_dataloader(self):\n",
        "    return DataLoader(\n",
        "      self.test_dataset,\n",
        "      batch_size=self.batch_size,\n",
        "      num_workers=2\n",
        "    )"
      ],
      "outputs": [],
      "execution_count": 11,
      "metadata": {
        "id": "tfQr6gMejjAJ",
        "gather": {
          "logged": 1635617438623
        }
      }
    },
    {
      "cell_type": "code",
      "source": [
        "N_EPOCHS = 2\n",
        "BATCH_SIZE = 12\n",
        "MAX_TOKEN_COUNT  = 128\n",
        "data_module = MultiWOZIntentDataModule(\n",
        "  train_df,\n",
        "  val_df,\n",
        "  tokenizer,\n",
        "  batch_size=BATCH_SIZE,\n",
        "  max_token_len=MAX_TOKEN_COUNT\n",
        ")\n",
        "data_module.setup()"
      ],
      "outputs": [],
      "execution_count": 12,
      "metadata": {
        "id": "8fDODFMHkrgq",
        "gather": {
          "logged": 1635617444606
        }
      }
    },
    {
      "cell_type": "markdown",
      "source": [
        "# Model"
      ],
      "metadata": {
        "id": "1Ov2f1bBulEz"
      }
    },
    {
      "cell_type": "code",
      "source": [
        "class IntentClassifier(pl.LightningModule):\n",
        "  def __init__(self, n_classes: int, n_training_steps=None, n_warmup_steps=None):\n",
        "    super().__init__()\n",
        "    self.bert = BertModel.from_pretrained(BERT_MODEL_NAME, return_dict=True)\n",
        "    self.classifier = nn.Linear(self.bert.config.hidden_size, n_classes)\n",
        "    self.n_training_steps = n_training_steps\n",
        "    self.n_warmup_steps = n_warmup_steps\n",
        "    self.criterion = nn.BCELoss()\n",
        "     \n",
        "  def forward(self, input_ids, attention_mask, labels=None):\n",
        "    output = self.bert(input_ids, attention_mask=attention_mask)\n",
        "    output = self.classifier(output.pooler_output)\n",
        "    output = torch.sigmoid(output)\n",
        "    loss = 0\n",
        "    if labels is not None:\n",
        "        loss = self.criterion(output, labels)\n",
        "    return loss, output\n",
        "  def training_step(self, batch, batch_idx):\n",
        "    input_ids = batch[\"input_ids\"]\n",
        "    attention_mask = batch[\"attention_mask\"]\n",
        "    labels = batch[\"labels\"]\n",
        "    loss, outputs = self(input_ids, attention_mask, labels)\n",
        "    self.log(\"train_loss\", loss, prog_bar=True, logger=True)\n",
        "    return {\"loss\": loss, \"predictions\": outputs, \"labels\": labels}\n",
        "  def validation_step(self, batch, batch_idx):\n",
        "    input_ids = batch[\"input_ids\"]\n",
        "    attention_mask = batch[\"attention_mask\"]\n",
        "    labels = batch[\"labels\"]\n",
        "    loss, outputs = self(input_ids, attention_mask, labels)\n",
        "    self.log(\"val_loss\", loss, prog_bar=True, logger=True)\n",
        "    return loss\n",
        "  def test_step(self, batch, batch_idx):\n",
        "    input_ids = batch[\"input_ids\"]\n",
        "    attention_mask = batch[\"attention_mask\"]\n",
        "    labels = batch[\"labels\"]\n",
        "    loss, outputs = self(input_ids, attention_mask, labels)\n",
        "    self.log(\"test_loss\", loss, prog_bar=True, logger=True)\n",
        "    return loss\n",
        "  def training_epoch_end(self, outputs):\n",
        "    labels = []\n",
        "    predictions = []\n",
        "    for output in outputs:\n",
        "      for out_labels in output[\"labels\"].detach().cpu():\n",
        "        labels.append(out_labels)\n",
        "      for out_predictions in output[\"predictions\"].detach().cpu():\n",
        "        predictions.append(out_predictions)\n",
        "    labels = torch.stack(labels).int()\n",
        "    predictions = torch.stack(predictions)\n",
        "    for i, name in enumerate(LABEL_COLUMNS):\n",
        "      class_roc_auc = auroc(predictions[:, i], labels[:, i])\n",
        "      self.logger.experiment.add_scalar(f\"{name}_roc_auc/Train\", class_roc_auc, self.current_epoch)\n",
        "  def configure_optimizers(self):\n",
        "    optimizer = AdamW(self.parameters(), lr=2e-5)\n",
        "    scheduler = get_linear_schedule_with_warmup(\n",
        "      optimizer,\n",
        "      num_warmup_steps=self.n_warmup_steps,\n",
        "      num_training_steps=self.n_training_steps\n",
        "    )\n",
        "    return dict(\n",
        "      optimizer=optimizer,\n",
        "      lr_scheduler=dict(\n",
        "        scheduler=scheduler,\n",
        "        interval='step'\n",
        "      )\n",
        "    )"
      ],
      "outputs": [],
      "execution_count": 13,
      "metadata": {
        "id": "viPadiS6rXNR",
        "gather": {
          "logged": 1635617450459
        }
      }
    },
    {
      "cell_type": "code",
      "source": [
        "steps_per_epoch=len(train_df) // BATCH_SIZE\n",
        "total_training_steps = steps_per_epoch * N_EPOCHS\n",
        "\n",
        "warmup_steps = total_training_steps // 5\n",
        "warmup_steps, total_training_steps"
      ],
      "outputs": [
        {
          "output_type": "execute_result",
          "execution_count": 14,
          "data": {
            "text/plain": "(956, 4780)"
          },
          "metadata": {}
        }
      ],
      "execution_count": 14,
      "metadata": {
        "colab": {
          "base_uri": "https://localhost:8080/"
        },
        "id": "-fxWZfJayZOg",
        "outputId": "aa813f9c-df60-46f8-ed38-ff9e695874f5",
        "gather": {
          "logged": 1635617451985
        }
      }
    },
    {
      "cell_type": "code",
      "source": [
        "model = IntentClassifier(\n",
        "  n_classes=len(LABEL_COLUMNS),\n",
        "  n_warmup_steps=warmup_steps,\n",
        "  n_training_steps=total_training_steps\n",
        ")"
      ],
      "outputs": [
        {
          "output_type": "stream",
          "name": "stderr",
          "text": "Some weights of the model checkpoint at bert-base-cased were not used when initializing BertModel: ['cls.predictions.decoder.weight', 'cls.seq_relationship.bias', 'cls.seq_relationship.weight', 'cls.predictions.transform.dense.weight', 'cls.predictions.transform.dense.bias', 'cls.predictions.transform.LayerNorm.bias', 'cls.predictions.transform.LayerNorm.weight', 'cls.predictions.bias']\n- This IS expected if you are initializing BertModel from the checkpoint of a model trained on another task or with another architecture (e.g. initializing a BertForSequenceClassification model from a BertForPreTraining model).\n- This IS NOT expected if you are initializing BertModel from the checkpoint of a model that you expect to be exactly identical (initializing a BertForSequenceClassification model from a BertForSequenceClassification model).\n"
        }
      ],
      "execution_count": 15,
      "metadata": {
        "colab": {
          "base_uri": "https://localhost:8080/"
        },
        "id": "JA3fxLRsy__4",
        "outputId": "82161593-da98-408e-c318-5a5d509fc6b6",
        "gather": {
          "logged": 1635617472094
        }
      }
    },
    {
      "cell_type": "code",
      "source": [
        "\n",
        "checkpoint_callback = ModelCheckpoint(\n",
        "  dirpath=\"checkpoints\",\n",
        "  filename=\"best-checkpoint\",\n",
        "  save_top_k=1,\n",
        "  verbose=True,\n",
        "  monitor=\"val_loss\",\n",
        "  mode=\"min\"\n",
        ")\n",
        "\n",
        "\n",
        "logger = TensorBoardLogger(\"lightning_logs\", name=\"toxic-comments\")\n",
        "\n",
        "early_stopping_callback = EarlyStopping(monitor='val_loss', patience=2)\n",
        "\n",
        "trainer = pl.Trainer(\n",
        "  logger=logger,\n",
        "  callbacks=[checkpoint_callback, early_stopping_callback],\n",
        "  max_epochs=N_EPOCHS,\n",
        "  gpus=1,\n",
        "  progress_bar_refresh_rate=30\n",
        ")"
      ],
      "outputs": [
        {
          "output_type": "stream",
          "name": "stderr",
          "text": "GPU available: True, used: True\nTPU available: False, using: 0 TPU cores\nIPU available: False, using: 0 IPUs\n"
        }
      ],
      "execution_count": 16,
      "metadata": {
        "id": "tA-61_A2zBI3",
        "colab": {
          "base_uri": "https://localhost:8080/"
        },
        "outputId": "283c7fb3-1b7b-455a-d32e-f034ba822d92",
        "gather": {
          "logged": 1635617472594
        }
      }
    },
    {
      "cell_type": "code",
      "source": [
        "trainer.fit(model, data_module)"
      ],
      "outputs": [
        {
          "output_type": "stream",
          "name": "stderr",
          "text": "/anaconda/envs/azureml_py36/lib/python3.6/site-packages/pytorch_lightning/core/datamodule.py:424: LightningDeprecationWarning: DataModule.setup has already been called, so it will not be called again. In v1.6 this behavior will change to always call DataModule.setup.\n  f\"DataModule.{name} has already been called, so it will not be called again. \"\nLOCAL_RANK: 0 - CUDA_VISIBLE_DEVICES: [0]\n\n  | Name       | Type      | Params\n-----------------------------------------\n0 | bert       | BertModel | 108 M \n1 | classifier | Linear    | 8.5 K \n2 | criterion  | BCELoss   | 0     \n-----------------------------------------\n108 M     Trainable params\n0         Non-trainable params\n108 M     Total params\n433.275   Total estimated model params size (MB)\n"
        },
        {
          "output_type": "display_data",
          "data": {
            "text/plain": "Validation sanity check: 0it [00:00, ?it/s]",
            "application/vnd.jupyter.widget-view+json": {
              "version_major": 2,
              "version_minor": 0,
              "model_id": "c92d2ba7d3d7400aa94e22926a2ddd12"
            }
          },
          "metadata": {}
        },
        {
          "output_type": "stream",
          "name": "stderr",
          "text": "/anaconda/envs/azureml_py36/lib/python3.6/site-packages/pytorch_lightning/trainer/data_loading.py:106: UserWarning: The dataloader, val dataloader 0, does not have many workers which may be a bottleneck. Consider increasing the value of the `num_workers` argument` (try 6 which is the number of cpus on this machine) in the `DataLoader` init to improve performance.\n  f\"The dataloader, {name}, does not have many workers which may be a bottleneck.\"\nGlobal seed set to 42\n/anaconda/envs/azureml_py36/lib/python3.6/site-packages/pytorch_lightning/trainer/data_loading.py:106: UserWarning: The dataloader, train dataloader, does not have many workers which may be a bottleneck. Consider increasing the value of the `num_workers` argument` (try 6 which is the number of cpus on this machine) in the `DataLoader` init to improve performance.\n  f\"The dataloader, {name}, does not have many workers which may be a bottleneck.\"\n/anaconda/envs/azureml_py36/lib/python3.6/site-packages/pytorch_lightning/trainer/connectors/logger_connector/result.py:406: LightningDeprecationWarning: One of the returned values {'labels', 'predictions'} has a `grad_fn`. We will detach it automatically but this behaviour will change in v1.6. Please detach it manually: `return {'loss': ..., 'something': something.detach()}`\n  f\"One of the returned values {set(extra.keys())} has a `grad_fn`. We will detach it automatically\"\n"
        },
        {
          "output_type": "display_data",
          "data": {
            "text/plain": "Training: -1it [00:00, ?it/s]",
            "application/vnd.jupyter.widget-view+json": {
              "version_major": 2,
              "version_minor": 0,
              "model_id": "814b00d69ce84fed9a2ffd4d68865ac5"
            }
          },
          "metadata": {}
        },
        {
          "output_type": "stream",
          "name": "stderr",
          "text": "/anaconda/envs/azureml_py36/lib/python3.6/site-packages/pytorch_lightning/trainer/trainer.py:1051: UserWarning: Detected KeyboardInterrupt, attempting graceful shutdown...\n  rank_zero_warn(\"Detected KeyboardInterrupt, attempting graceful shutdown...\")\n"
        }
      ],
      "execution_count": 17,
      "metadata": {
        "colab": {
          "base_uri": "https://localhost:8080/",
          "height": 356,
          "referenced_widgets": [
            "3d28c1998eaf44c1b5ca112f00afe108",
            "df2ec988b4794aaca5efecde66a6b1a6",
            "cedeb58f2bd64c8992a92470eac91769",
            "6db102374d0b44b4b9040ed1743c78b4",
            "1485cb3224e140f5a2e5b115d88e7469",
            "3688d1ffd588405db7010e9ac71a5ef3",
            "062d0d2ecf1f472c8115af87acbf73a8",
            "bff2c821919746779c3bc1f75326ed4e",
            "1461f392e585458990ab549f1881df47",
            "b479b812cbad49359974af80e59bead9",
            "2ce816b3293748b1b51d77184900ab2e",
            "dd3437f5168244b5bab2f5c64e617a0e",
            "3f3070448f354e908b2534a54f4b9406",
            "163564d1238445bc99cf8c54a4c91c78",
            "d286b717116248d6aaf295f5b9fc85ac",
            "34d393b819b84c1d9c1c194b669d28eb",
            "696c687a625a43b284bf4f813d6b5c1e",
            "7912b15cf87549cdb9947abf4e544fe4",
            "efc89ff9d8fe4cfc94e0ff1656a19903",
            "4c2f6f0deda84ad29adaf5196176ade7",
            "4116d443afa546d09e19d422e9a3dec2",
            "a53b0e264f884081a0b1851ab06d7fbe"
          ]
        },
        "id": "0eW7cEC0zf1I",
        "outputId": "5c967af1-64bd-41af-bb61-29d5a73e0694",
        "gather": {
          "logged": 1635617611908
        }
      }
    },
    {
      "cell_type": "code",
      "source": [
        "trainer.test()"
      ],
      "outputs": [],
      "execution_count": null,
      "metadata": {
        "colab": {
          "base_uri": "https://localhost:8080/",
          "height": 306
        },
        "id": "P3FCUAwRzsAQ",
        "outputId": "5bde4d93-169d-4a93-c4da-c717bf60bbde"
      }
    },
    {
      "cell_type": "code",
      "source": [
        "trained_model = IntentClassifier.load_from_checkpoint(\n",
        "  trainer.checkpoint_callback.best_model_path,\n",
        "  n_classes=len(LABEL_COLUMNS)\n",
        ")\n",
        "trained_model.eval()\n",
        "trained_model.freeze()"
      ],
      "outputs": [],
      "execution_count": null,
      "metadata": {
        "id": "XK3mp1Z110ag"
      }
    },
    {
      "cell_type": "markdown",
      "source": [
        "# Predictions"
      ],
      "metadata": {
        "id": "3q8vy70L11Nq"
      }
    },
    {
      "cell_type": "code",
      "source": [
        "test_text = \"No I don't care about the price. Which one do you recommend?\"\n",
        "encoding = tokenizer.encode_plus(\n",
        "  test_text,\n",
        "  add_special_tokens=True,\n",
        "  max_length=512,\n",
        "  return_token_type_ids=False,\n",
        "  padding=\"max_length\",\n",
        "  return_attention_mask=True,\n",
        "  return_tensors='pt',\n",
        ")\n",
        "_, test_prediction = trained_model(encoding[\"input_ids\"], encoding[\"attention_mask\"])\n",
        "test_prediction = test_prediction.flatten().numpy()\n",
        "for label, prediction in zip(LABEL_COLUMNS, test_prediction):\n",
        "  print(f\"{label}: {prediction}\")"
      ],
      "outputs": [],
      "execution_count": null,
      "metadata": {
        "id": "WvAbehh612KH"
      }
    },
    {
      "cell_type": "code",
      "source": [
        "THRESHOLD = 0.5\n",
        "test_comment = \"i need a place to dine in the center thats expensive\"\n",
        "encoding = tokenizer.encode_plus(\n",
        "  test_comment,\n",
        "  add_special_tokens=True,\n",
        "  max_length=512,\n",
        "  return_token_type_ids=False,\n",
        "  padding=\"max_length\",\n",
        "  return_attention_mask=True,\n",
        "  return_tensors='pt',\n",
        ")\n",
        "_, test_prediction = trained_model(encoding[\"input_ids\"], encoding[\"attention_mask\"])\n",
        "test_prediction = test_prediction.flatten().numpy()\n",
        "for label, prediction in zip(LABEL_COLUMNS, test_prediction):\n",
        "  if prediction < THRESHOLD:\n",
        "    continue\n",
        "  print(f\"{label}: {prediction}\")"
      ],
      "outputs": [],
      "execution_count": null,
      "metadata": {
        "id": "j-XpiURF2FZR"
      }
    },
    {
      "cell_type": "markdown",
      "source": [
        "# Evaluation"
      ],
      "metadata": {
        "id": "FnqpnKJ52cAD"
      }
    },
    {
      "cell_type": "code",
      "source": [
        "device = torch.device('cuda' if torch.cuda.is_available() else 'cpu')\n",
        "trained_model = trained_model.to(device)\n",
        "val_dataset = MultiWOZIntentDataset(\n",
        "  val_df,\n",
        "  tokenizer,\n",
        "  max_token_len=MAX_TOKEN_COUNT\n",
        ")\n",
        "predictions = []\n",
        "labels = []\n",
        "for item in tqdm(val_dataset):\n",
        "  _, prediction = trained_model(\n",
        "    item[\"input_ids\"].unsqueeze(dim=0).to(device),\n",
        "    item[\"attention_mask\"].unsqueeze(dim=0).to(device)\n",
        "  )\n",
        "  predictions.append(prediction.flatten())\n",
        "  labels.append(item[\"labels\"].int())\n",
        "predictions = torch.stack(predictions).detach().cpu()\n",
        "labels = torch.stack(labels).detach().cpu()"
      ],
      "outputs": [],
      "execution_count": null,
      "metadata": {
        "id": "g-Ps3qoz2Mtv"
      }
    },
    {
      "cell_type": "code",
      "source": [
        "accuracy(predictions, labels, threshold=THRESHOLD)"
      ],
      "outputs": [],
      "execution_count": null,
      "metadata": {
        "id": "B_WPd9yx2Y1I"
      }
    },
    {
      "cell_type": "code",
      "source": [
        "print(\"AUROC per tag\")\n",
        "for i, name in enumerate(LABEL_COLUMNS):\n",
        "  tag_auroc = auroc(predictions[:, i], labels[:, i], pos_label=1)\n",
        "  print(f\"{name}: {tag_auroc}\")"
      ],
      "outputs": [],
      "execution_count": null,
      "metadata": {
        "id": "mIolvzLn2fxw"
      }
    },
    {
      "cell_type": "code",
      "source": [
        "y_pred = predictions.numpy()\n",
        "y_true = labels.numpy()\n",
        "upper, lower = 1, 0\n",
        "y_pred = np.where(y_pred > THRESHOLD, upper, lower)\n",
        "print(classification_report(\n",
        "  y_true,\n",
        "  y_pred,\n",
        "  target_names=LABEL_COLUMNS,\n",
        "  zero_division=0\n",
        "))"
      ],
      "outputs": [],
      "execution_count": null,
      "metadata": {
        "id": "PxigBbPT2luR"
      }
    }
  ],
  "metadata": {
    "colab": {
      "name": "MultiWOZ1.ipynb",
      "provenance": [],
      "collapsed_sections": []
    },
    "kernelspec": {
      "name": "python3",
      "language": "python",
      "display_name": "Python 3"
    },
    "language_info": {
      "name": "python",
      "version": "3.6.9",
      "mimetype": "text/x-python",
      "codemirror_mode": {
        "name": "ipython",
        "version": 3
      },
      "pygments_lexer": "ipython3",
      "nbconvert_exporter": "python",
      "file_extension": ".py"
    },
    "widgets": {
      "application/vnd.jupyter.widget-state+json": {
        "34d393b819b84c1d9c1c194b669d28eb": {
          "model_module": "@jupyter-widgets/controls",
          "model_name": "HTMLModel",
          "model_module_version": "1.5.0",
          "state": {
            "_view_module_version": "1.5.0",
            "description_tooltip": null,
            "_model_name": "HTMLModel",
            "_model_module": "@jupyter-widgets/controls",
            "_view_name": "HTMLView",
            "_view_module": "@jupyter-widgets/controls",
            "_dom_classes": [],
            "layout": "IPY_MODEL_a53b0e264f884081a0b1851ab06d7fbe",
            "value": " 30/2958 [00:15&lt;25:03,  1.95it/s, loss=0.735, v_num=2, train_loss=0.733]",
            "style": "IPY_MODEL_4116d443afa546d09e19d422e9a3dec2",
            "placeholder": "​",
            "_view_count": null,
            "_model_module_version": "1.5.0",
            "description": ""
          }
        },
        "3688d1ffd588405db7010e9ac71a5ef3": {
          "model_module": "@jupyter-widgets/controls",
          "model_name": "DescriptionStyleModel",
          "model_module_version": "1.5.0",
          "state": {
            "_view_name": "StyleView",
            "_model_name": "DescriptionStyleModel",
            "description_width": "",
            "_view_module": "@jupyter-widgets/base",
            "_model_module_version": "1.5.0",
            "_view_count": null,
            "_view_module_version": "1.2.0",
            "_model_module": "@jupyter-widgets/controls"
          }
        },
        "dd3437f5168244b5bab2f5c64e617a0e": {
          "model_module": "@jupyter-widgets/controls",
          "model_name": "HBoxModel",
          "model_module_version": "1.5.0",
          "state": {
            "_view_module_version": "1.5.0",
            "_model_name": "HBoxModel",
            "_model_module": "@jupyter-widgets/controls",
            "_view_name": "HBoxView",
            "_view_module": "@jupyter-widgets/controls",
            "_dom_classes": [],
            "layout": "IPY_MODEL_3f3070448f354e908b2534a54f4b9406",
            "_view_count": null,
            "_model_module_version": "1.5.0",
            "box_style": "",
            "children": [
              "IPY_MODEL_163564d1238445bc99cf8c54a4c91c78",
              "IPY_MODEL_d286b717116248d6aaf295f5b9fc85ac",
              "IPY_MODEL_34d393b819b84c1d9c1c194b669d28eb"
            ]
          }
        },
        "3d28c1998eaf44c1b5ca112f00afe108": {
          "model_module": "@jupyter-widgets/controls",
          "model_name": "HBoxModel",
          "model_module_version": "1.5.0",
          "state": {
            "_view_module_version": "1.5.0",
            "_model_name": "HBoxModel",
            "_model_module": "@jupyter-widgets/controls",
            "_view_name": "HBoxView",
            "_view_module": "@jupyter-widgets/controls",
            "_dom_classes": [],
            "layout": "IPY_MODEL_df2ec988b4794aaca5efecde66a6b1a6",
            "_view_count": null,
            "_model_module_version": "1.5.0",
            "box_style": "",
            "children": [
              "IPY_MODEL_cedeb58f2bd64c8992a92470eac91769",
              "IPY_MODEL_6db102374d0b44b4b9040ed1743c78b4",
              "IPY_MODEL_1485cb3224e140f5a2e5b115d88e7469"
            ]
          }
        },
        "4c2f6f0deda84ad29adaf5196176ade7": {
          "model_module": "@jupyter-widgets/base",
          "model_name": "LayoutModel",
          "model_module_version": "1.2.0",
          "state": {
            "_view_module_version": "1.2.0",
            "_model_name": "LayoutModel",
            "grid_row": null,
            "_model_module": "@jupyter-widgets/base",
            "overflow": null,
            "max_height": null,
            "display": null,
            "grid_auto_flow": null,
            "grid_template_rows": null,
            "align_self": null,
            "grid_auto_columns": null,
            "width": null,
            "grid_area": null,
            "align_items": null,
            "_view_name": "LayoutView",
            "left": null,
            "height": null,
            "_view_module": "@jupyter-widgets/base",
            "object_position": null,
            "justify_content": null,
            "bottom": null,
            "max_width": null,
            "border": null,
            "margin": null,
            "order": null,
            "grid_column": null,
            "grid_auto_rows": null,
            "padding": null,
            "grid_template_columns": null,
            "justify_items": null,
            "object_fit": null,
            "visibility": null,
            "_view_count": null,
            "flex_flow": null,
            "min_height": null,
            "top": null,
            "min_width": null,
            "flex": "2",
            "_model_module_version": "1.2.0",
            "grid_template_areas": null,
            "overflow_x": null,
            "right": null,
            "overflow_y": null,
            "grid_gap": null,
            "align_content": null
          }
        },
        "d286b717116248d6aaf295f5b9fc85ac": {
          "model_module": "@jupyter-widgets/controls",
          "model_name": "FloatProgressModel",
          "model_module_version": "1.5.0",
          "state": {
            "_view_module_version": "1.5.0",
            "description_tooltip": null,
            "_model_name": "FloatProgressModel",
            "_model_module": "@jupyter-widgets/controls",
            "max": 2958,
            "bar_style": "",
            "_view_name": "ProgressView",
            "_view_module": "@jupyter-widgets/controls",
            "_dom_classes": [],
            "layout": "IPY_MODEL_4c2f6f0deda84ad29adaf5196176ade7",
            "orientation": "horizontal",
            "value": 30,
            "style": "IPY_MODEL_efc89ff9d8fe4cfc94e0ff1656a19903",
            "min": 0,
            "_view_count": null,
            "_model_module_version": "1.5.0",
            "description": ""
          }
        },
        "3f3070448f354e908b2534a54f4b9406": {
          "model_module": "@jupyter-widgets/base",
          "model_name": "LayoutModel",
          "model_module_version": "1.2.0",
          "state": {
            "_view_module_version": "1.2.0",
            "_model_name": "LayoutModel",
            "grid_row": null,
            "_model_module": "@jupyter-widgets/base",
            "overflow": null,
            "max_height": null,
            "display": "inline-flex",
            "grid_auto_flow": null,
            "grid_template_rows": null,
            "align_self": null,
            "grid_auto_columns": null,
            "width": "100%",
            "grid_area": null,
            "align_items": null,
            "_view_name": "LayoutView",
            "left": null,
            "height": null,
            "_view_module": "@jupyter-widgets/base",
            "object_position": null,
            "justify_content": null,
            "bottom": null,
            "max_width": null,
            "border": null,
            "margin": null,
            "order": null,
            "grid_column": null,
            "grid_auto_rows": null,
            "padding": null,
            "grid_template_columns": null,
            "justify_items": null,
            "object_fit": null,
            "visibility": null,
            "_view_count": null,
            "flex_flow": "row wrap",
            "min_height": null,
            "top": null,
            "min_width": null,
            "flex": null,
            "_model_module_version": "1.2.0",
            "grid_template_areas": null,
            "overflow_x": null,
            "right": null,
            "overflow_y": null,
            "grid_gap": null,
            "align_content": null
          }
        },
        "062d0d2ecf1f472c8115af87acbf73a8": {
          "model_module": "@jupyter-widgets/base",
          "model_name": "LayoutModel",
          "model_module_version": "1.2.0",
          "state": {
            "_view_module_version": "1.2.0",
            "_model_name": "LayoutModel",
            "grid_row": null,
            "_model_module": "@jupyter-widgets/base",
            "overflow": null,
            "max_height": null,
            "display": null,
            "grid_auto_flow": null,
            "grid_template_rows": null,
            "align_self": null,
            "grid_auto_columns": null,
            "width": null,
            "grid_area": null,
            "align_items": null,
            "_view_name": "LayoutView",
            "left": null,
            "height": null,
            "_view_module": "@jupyter-widgets/base",
            "object_position": null,
            "justify_content": null,
            "bottom": null,
            "max_width": null,
            "border": null,
            "margin": null,
            "order": null,
            "grid_column": null,
            "grid_auto_rows": null,
            "padding": null,
            "grid_template_columns": null,
            "justify_items": null,
            "object_fit": null,
            "visibility": null,
            "_view_count": null,
            "flex_flow": null,
            "min_height": null,
            "top": null,
            "min_width": null,
            "flex": null,
            "_model_module_version": "1.2.0",
            "grid_template_areas": null,
            "overflow_x": null,
            "right": null,
            "overflow_y": null,
            "grid_gap": null,
            "align_content": null
          }
        },
        "bff2c821919746779c3bc1f75326ed4e": {
          "model_module": "@jupyter-widgets/controls",
          "model_name": "ProgressStyleModel",
          "model_module_version": "1.5.0",
          "state": {
            "_view_module_version": "1.2.0",
            "_model_name": "ProgressStyleModel",
            "_model_module": "@jupyter-widgets/controls",
            "description_width": "",
            "_view_name": "StyleView",
            "_view_module": "@jupyter-widgets/base",
            "_view_count": null,
            "bar_color": null,
            "_model_module_version": "1.5.0"
          }
        },
        "7912b15cf87549cdb9947abf4e544fe4": {
          "model_module": "@jupyter-widgets/base",
          "model_name": "LayoutModel",
          "model_module_version": "1.2.0",
          "state": {
            "_view_module_version": "1.2.0",
            "_model_name": "LayoutModel",
            "grid_row": null,
            "_model_module": "@jupyter-widgets/base",
            "overflow": null,
            "max_height": null,
            "display": null,
            "grid_auto_flow": null,
            "grid_template_rows": null,
            "align_self": null,
            "grid_auto_columns": null,
            "width": null,
            "grid_area": null,
            "align_items": null,
            "_view_name": "LayoutView",
            "left": null,
            "height": null,
            "_view_module": "@jupyter-widgets/base",
            "object_position": null,
            "justify_content": null,
            "bottom": null,
            "max_width": null,
            "border": null,
            "margin": null,
            "order": null,
            "grid_column": null,
            "grid_auto_rows": null,
            "padding": null,
            "grid_template_columns": null,
            "justify_items": null,
            "object_fit": null,
            "visibility": null,
            "_view_count": null,
            "flex_flow": null,
            "min_height": null,
            "top": null,
            "min_width": null,
            "flex": null,
            "_model_module_version": "1.2.0",
            "grid_template_areas": null,
            "overflow_x": null,
            "right": null,
            "overflow_y": null,
            "grid_gap": null,
            "align_content": null
          }
        },
        "1485cb3224e140f5a2e5b115d88e7469": {
          "model_module": "@jupyter-widgets/controls",
          "model_name": "HTMLModel",
          "model_module_version": "1.5.0",
          "state": {
            "_view_module_version": "1.5.0",
            "description_tooltip": null,
            "_model_name": "HTMLModel",
            "_model_module": "@jupyter-widgets/controls",
            "_view_name": "HTMLView",
            "_view_module": "@jupyter-widgets/controls",
            "_dom_classes": [],
            "layout": "IPY_MODEL_2ce816b3293748b1b51d77184900ab2e",
            "value": " 0/2 [00:00&lt;?, ?it/s]",
            "style": "IPY_MODEL_b479b812cbad49359974af80e59bead9",
            "placeholder": "​",
            "_view_count": null,
            "_model_module_version": "1.5.0",
            "description": ""
          }
        },
        "4116d443afa546d09e19d422e9a3dec2": {
          "model_module": "@jupyter-widgets/controls",
          "model_name": "DescriptionStyleModel",
          "model_module_version": "1.5.0",
          "state": {
            "_view_name": "StyleView",
            "_model_name": "DescriptionStyleModel",
            "description_width": "",
            "_view_module": "@jupyter-widgets/base",
            "_model_module_version": "1.5.0",
            "_view_count": null,
            "_view_module_version": "1.2.0",
            "_model_module": "@jupyter-widgets/controls"
          }
        },
        "efc89ff9d8fe4cfc94e0ff1656a19903": {
          "model_module": "@jupyter-widgets/controls",
          "model_name": "ProgressStyleModel",
          "model_module_version": "1.5.0",
          "state": {
            "_view_module_version": "1.2.0",
            "_model_name": "ProgressStyleModel",
            "_model_module": "@jupyter-widgets/controls",
            "description_width": "",
            "_view_name": "StyleView",
            "_view_module": "@jupyter-widgets/base",
            "_view_count": null,
            "bar_color": null,
            "_model_module_version": "1.5.0"
          }
        },
        "6db102374d0b44b4b9040ed1743c78b4": {
          "model_module": "@jupyter-widgets/controls",
          "model_name": "FloatProgressModel",
          "model_module_version": "1.5.0",
          "state": {
            "_view_module_version": "1.5.0",
            "description_tooltip": null,
            "_model_name": "FloatProgressModel",
            "_model_module": "@jupyter-widgets/controls",
            "max": 2,
            "bar_style": "danger",
            "_view_name": "ProgressView",
            "_view_module": "@jupyter-widgets/controls",
            "_dom_classes": [],
            "layout": "IPY_MODEL_1461f392e585458990ab549f1881df47",
            "orientation": "horizontal",
            "value": 0,
            "style": "IPY_MODEL_bff2c821919746779c3bc1f75326ed4e",
            "min": 0,
            "_view_count": null,
            "_model_module_version": "1.5.0",
            "description": ""
          }
        },
        "b479b812cbad49359974af80e59bead9": {
          "model_module": "@jupyter-widgets/controls",
          "model_name": "DescriptionStyleModel",
          "model_module_version": "1.5.0",
          "state": {
            "_view_name": "StyleView",
            "_model_name": "DescriptionStyleModel",
            "description_width": "",
            "_view_module": "@jupyter-widgets/base",
            "_model_module_version": "1.5.0",
            "_view_count": null,
            "_view_module_version": "1.2.0",
            "_model_module": "@jupyter-widgets/controls"
          }
        },
        "163564d1238445bc99cf8c54a4c91c78": {
          "model_module": "@jupyter-widgets/controls",
          "model_name": "HTMLModel",
          "model_module_version": "1.5.0",
          "state": {
            "_view_module_version": "1.5.0",
            "description_tooltip": null,
            "_model_name": "HTMLModel",
            "_model_module": "@jupyter-widgets/controls",
            "_view_name": "HTMLView",
            "_view_module": "@jupyter-widgets/controls",
            "_dom_classes": [],
            "layout": "IPY_MODEL_7912b15cf87549cdb9947abf4e544fe4",
            "value": "Epoch 0:   1%",
            "style": "IPY_MODEL_696c687a625a43b284bf4f813d6b5c1e",
            "placeholder": "​",
            "_view_count": null,
            "_model_module_version": "1.5.0",
            "description": ""
          }
        },
        "df2ec988b4794aaca5efecde66a6b1a6": {
          "model_module": "@jupyter-widgets/base",
          "model_name": "LayoutModel",
          "model_module_version": "1.2.0",
          "state": {
            "_view_module_version": "1.2.0",
            "_model_name": "LayoutModel",
            "grid_row": null,
            "_model_module": "@jupyter-widgets/base",
            "overflow": null,
            "max_height": null,
            "display": "inline-flex",
            "grid_auto_flow": null,
            "grid_template_rows": null,
            "align_self": null,
            "grid_auto_columns": null,
            "width": "100%",
            "grid_area": null,
            "align_items": null,
            "_view_name": "LayoutView",
            "left": null,
            "height": null,
            "_view_module": "@jupyter-widgets/base",
            "object_position": null,
            "justify_content": null,
            "bottom": null,
            "max_width": null,
            "border": null,
            "margin": null,
            "order": null,
            "grid_column": null,
            "grid_auto_rows": null,
            "padding": null,
            "grid_template_columns": null,
            "justify_items": null,
            "object_fit": null,
            "visibility": null,
            "_view_count": null,
            "flex_flow": "row wrap",
            "min_height": null,
            "top": null,
            "min_width": null,
            "flex": null,
            "_model_module_version": "1.2.0",
            "grid_template_areas": null,
            "overflow_x": null,
            "right": null,
            "overflow_y": null,
            "grid_gap": null,
            "align_content": null
          }
        },
        "a53b0e264f884081a0b1851ab06d7fbe": {
          "model_module": "@jupyter-widgets/base",
          "model_name": "LayoutModel",
          "model_module_version": "1.2.0",
          "state": {
            "_view_module_version": "1.2.0",
            "_model_name": "LayoutModel",
            "grid_row": null,
            "_model_module": "@jupyter-widgets/base",
            "overflow": null,
            "max_height": null,
            "display": null,
            "grid_auto_flow": null,
            "grid_template_rows": null,
            "align_self": null,
            "grid_auto_columns": null,
            "width": null,
            "grid_area": null,
            "align_items": null,
            "_view_name": "LayoutView",
            "left": null,
            "height": null,
            "_view_module": "@jupyter-widgets/base",
            "object_position": null,
            "justify_content": null,
            "bottom": null,
            "max_width": null,
            "border": null,
            "margin": null,
            "order": null,
            "grid_column": null,
            "grid_auto_rows": null,
            "padding": null,
            "grid_template_columns": null,
            "justify_items": null,
            "object_fit": null,
            "visibility": null,
            "_view_count": null,
            "flex_flow": null,
            "min_height": null,
            "top": null,
            "min_width": null,
            "flex": null,
            "_model_module_version": "1.2.0",
            "grid_template_areas": null,
            "overflow_x": null,
            "right": null,
            "overflow_y": null,
            "grid_gap": null,
            "align_content": null
          }
        },
        "1461f392e585458990ab549f1881df47": {
          "model_module": "@jupyter-widgets/base",
          "model_name": "LayoutModel",
          "model_module_version": "1.2.0",
          "state": {
            "_view_module_version": "1.2.0",
            "_model_name": "LayoutModel",
            "grid_row": null,
            "_model_module": "@jupyter-widgets/base",
            "overflow": null,
            "max_height": null,
            "display": null,
            "grid_auto_flow": null,
            "grid_template_rows": null,
            "align_self": null,
            "grid_auto_columns": null,
            "width": null,
            "grid_area": null,
            "align_items": null,
            "_view_name": "LayoutView",
            "left": null,
            "height": null,
            "_view_module": "@jupyter-widgets/base",
            "object_position": null,
            "justify_content": null,
            "bottom": null,
            "max_width": null,
            "border": null,
            "margin": null,
            "order": null,
            "grid_column": null,
            "grid_auto_rows": null,
            "padding": null,
            "grid_template_columns": null,
            "justify_items": null,
            "object_fit": null,
            "visibility": null,
            "_view_count": null,
            "flex_flow": null,
            "min_height": null,
            "top": null,
            "min_width": null,
            "flex": "2",
            "_model_module_version": "1.2.0",
            "grid_template_areas": null,
            "overflow_x": null,
            "right": null,
            "overflow_y": null,
            "grid_gap": null,
            "align_content": null
          }
        },
        "696c687a625a43b284bf4f813d6b5c1e": {
          "model_module": "@jupyter-widgets/controls",
          "model_name": "DescriptionStyleModel",
          "model_module_version": "1.5.0",
          "state": {
            "_view_name": "StyleView",
            "_model_name": "DescriptionStyleModel",
            "description_width": "",
            "_view_module": "@jupyter-widgets/base",
            "_model_module_version": "1.5.0",
            "_view_count": null,
            "_view_module_version": "1.2.0",
            "_model_module": "@jupyter-widgets/controls"
          }
        },
        "cedeb58f2bd64c8992a92470eac91769": {
          "model_module": "@jupyter-widgets/controls",
          "model_name": "HTMLModel",
          "model_module_version": "1.5.0",
          "state": {
            "_view_module_version": "1.5.0",
            "description_tooltip": null,
            "_model_name": "HTMLModel",
            "_model_module": "@jupyter-widgets/controls",
            "_view_name": "HTMLView",
            "_view_module": "@jupyter-widgets/controls",
            "_dom_classes": [],
            "layout": "IPY_MODEL_062d0d2ecf1f472c8115af87acbf73a8",
            "value": "Validation sanity check:   0%",
            "style": "IPY_MODEL_3688d1ffd588405db7010e9ac71a5ef3",
            "placeholder": "​",
            "_view_count": null,
            "_model_module_version": "1.5.0",
            "description": ""
          }
        },
        "2ce816b3293748b1b51d77184900ab2e": {
          "model_module": "@jupyter-widgets/base",
          "model_name": "LayoutModel",
          "model_module_version": "1.2.0",
          "state": {
            "_view_module_version": "1.2.0",
            "_model_name": "LayoutModel",
            "grid_row": null,
            "_model_module": "@jupyter-widgets/base",
            "overflow": null,
            "max_height": null,
            "display": null,
            "grid_auto_flow": null,
            "grid_template_rows": null,
            "align_self": null,
            "grid_auto_columns": null,
            "width": null,
            "grid_area": null,
            "align_items": null,
            "_view_name": "LayoutView",
            "left": null,
            "height": null,
            "_view_module": "@jupyter-widgets/base",
            "object_position": null,
            "justify_content": null,
            "bottom": null,
            "max_width": null,
            "border": null,
            "margin": null,
            "order": null,
            "grid_column": null,
            "grid_auto_rows": null,
            "padding": null,
            "grid_template_columns": null,
            "justify_items": null,
            "object_fit": null,
            "visibility": null,
            "_view_count": null,
            "flex_flow": null,
            "min_height": null,
            "top": null,
            "min_width": null,
            "flex": null,
            "_model_module_version": "1.2.0",
            "grid_template_areas": null,
            "overflow_x": null,
            "right": null,
            "overflow_y": null,
            "grid_gap": null,
            "align_content": null
          }
        }
      }
    },
    "accelerator": "GPU",
    "kernel_info": {
      "name": "python3"
    },
    "nteract": {
      "version": "nteract-front-end@1.0.0"
    }
  },
  "nbformat": 4,
  "nbformat_minor": 0
}